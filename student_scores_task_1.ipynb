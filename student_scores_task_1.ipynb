{
 "cells": [
  {
   "cell_type": "markdown",
   "id": "28f155ec-e552-4b8e-8022-8aa4657b7fed",
   "metadata": {},
   "source": [
    "## Task-1 Data analysis project using python\n",
    "Student Performance Data Analysis\n",
    "This notebook performs exploratory data analysis (EDA) on the Student Performance dataset\n",
    "(`student-mat.csv`) following the instructions provided in Task 1.\n"
   ]
  },
  {
   "cell_type": "code",
   "execution_count": 2,
   "id": "60bdf092-9b3d-47a8-b048-90f631bd9f4a",
   "metadata": {},
   "outputs": [],
   "source": [
    "# Loading Required Libraries\n",
    "import pandas as pd\n",
    "import numpy as np\n",
    "import matplotlib.pyplot as plt\n",
    "import seaborn as sns"
   ]
  },
  {
   "cell_type": "code",
   "execution_count": 8,
   "id": "2394aadc-4335-46d1-b08a-e9805ce59fb5",
   "metadata": {},
   "outputs": [
    {
     "data": {
      "text/html": [
       "<div>\n",
       "<style scoped>\n",
       "    .dataframe tbody tr th:only-of-type {\n",
       "        vertical-align: middle;\n",
       "    }\n",
       "\n",
       "    .dataframe tbody tr th {\n",
       "        vertical-align: top;\n",
       "    }\n",
       "\n",
       "    .dataframe thead th {\n",
       "        text-align: right;\n",
       "    }\n",
       "</style>\n",
       "<table border=\"1\" class=\"dataframe\">\n",
       "  <thead>\n",
       "    <tr style=\"text-align: right;\">\n",
       "      <th></th>\n",
       "      <th>school</th>\n",
       "      <th>sex</th>\n",
       "      <th>age</th>\n",
       "      <th>address</th>\n",
       "      <th>famsize</th>\n",
       "      <th>Pstatus</th>\n",
       "      <th>Medu</th>\n",
       "      <th>Fedu</th>\n",
       "      <th>Mjob</th>\n",
       "      <th>Fjob</th>\n",
       "      <th>...</th>\n",
       "      <th>famrel</th>\n",
       "      <th>freetime</th>\n",
       "      <th>goout</th>\n",
       "      <th>Dalc</th>\n",
       "      <th>Walc</th>\n",
       "      <th>health</th>\n",
       "      <th>absences</th>\n",
       "      <th>G1</th>\n",
       "      <th>G2</th>\n",
       "      <th>G3</th>\n",
       "    </tr>\n",
       "  </thead>\n",
       "  <tbody>\n",
       "    <tr>\n",
       "      <th>0</th>\n",
       "      <td>GP</td>\n",
       "      <td>F</td>\n",
       "      <td>18</td>\n",
       "      <td>U</td>\n",
       "      <td>GT3</td>\n",
       "      <td>A</td>\n",
       "      <td>4</td>\n",
       "      <td>4</td>\n",
       "      <td>at_home</td>\n",
       "      <td>teacher</td>\n",
       "      <td>...</td>\n",
       "      <td>4</td>\n",
       "      <td>3</td>\n",
       "      <td>4</td>\n",
       "      <td>1</td>\n",
       "      <td>1</td>\n",
       "      <td>3</td>\n",
       "      <td>6</td>\n",
       "      <td>5</td>\n",
       "      <td>6</td>\n",
       "      <td>6</td>\n",
       "    </tr>\n",
       "    <tr>\n",
       "      <th>1</th>\n",
       "      <td>GP</td>\n",
       "      <td>F</td>\n",
       "      <td>17</td>\n",
       "      <td>U</td>\n",
       "      <td>GT3</td>\n",
       "      <td>T</td>\n",
       "      <td>1</td>\n",
       "      <td>1</td>\n",
       "      <td>at_home</td>\n",
       "      <td>other</td>\n",
       "      <td>...</td>\n",
       "      <td>5</td>\n",
       "      <td>3</td>\n",
       "      <td>3</td>\n",
       "      <td>1</td>\n",
       "      <td>1</td>\n",
       "      <td>3</td>\n",
       "      <td>4</td>\n",
       "      <td>5</td>\n",
       "      <td>5</td>\n",
       "      <td>6</td>\n",
       "    </tr>\n",
       "    <tr>\n",
       "      <th>2</th>\n",
       "      <td>GP</td>\n",
       "      <td>F</td>\n",
       "      <td>15</td>\n",
       "      <td>U</td>\n",
       "      <td>LE3</td>\n",
       "      <td>T</td>\n",
       "      <td>1</td>\n",
       "      <td>1</td>\n",
       "      <td>at_home</td>\n",
       "      <td>other</td>\n",
       "      <td>...</td>\n",
       "      <td>4</td>\n",
       "      <td>3</td>\n",
       "      <td>2</td>\n",
       "      <td>2</td>\n",
       "      <td>3</td>\n",
       "      <td>3</td>\n",
       "      <td>10</td>\n",
       "      <td>7</td>\n",
       "      <td>8</td>\n",
       "      <td>10</td>\n",
       "    </tr>\n",
       "    <tr>\n",
       "      <th>3</th>\n",
       "      <td>GP</td>\n",
       "      <td>F</td>\n",
       "      <td>15</td>\n",
       "      <td>U</td>\n",
       "      <td>GT3</td>\n",
       "      <td>T</td>\n",
       "      <td>4</td>\n",
       "      <td>2</td>\n",
       "      <td>health</td>\n",
       "      <td>services</td>\n",
       "      <td>...</td>\n",
       "      <td>3</td>\n",
       "      <td>2</td>\n",
       "      <td>2</td>\n",
       "      <td>1</td>\n",
       "      <td>1</td>\n",
       "      <td>5</td>\n",
       "      <td>2</td>\n",
       "      <td>15</td>\n",
       "      <td>14</td>\n",
       "      <td>15</td>\n",
       "    </tr>\n",
       "    <tr>\n",
       "      <th>4</th>\n",
       "      <td>GP</td>\n",
       "      <td>F</td>\n",
       "      <td>16</td>\n",
       "      <td>U</td>\n",
       "      <td>GT3</td>\n",
       "      <td>T</td>\n",
       "      <td>3</td>\n",
       "      <td>3</td>\n",
       "      <td>other</td>\n",
       "      <td>other</td>\n",
       "      <td>...</td>\n",
       "      <td>4</td>\n",
       "      <td>3</td>\n",
       "      <td>2</td>\n",
       "      <td>1</td>\n",
       "      <td>2</td>\n",
       "      <td>5</td>\n",
       "      <td>4</td>\n",
       "      <td>6</td>\n",
       "      <td>10</td>\n",
       "      <td>10</td>\n",
       "    </tr>\n",
       "  </tbody>\n",
       "</table>\n",
       "<p>5 rows × 33 columns</p>\n",
       "</div>"
      ],
      "text/plain": [
       "  school sex  age address famsize Pstatus  Medu  Fedu     Mjob      Fjob  ...  \\\n",
       "0     GP   F   18       U     GT3       A     4     4  at_home   teacher  ...   \n",
       "1     GP   F   17       U     GT3       T     1     1  at_home     other  ...   \n",
       "2     GP   F   15       U     LE3       T     1     1  at_home     other  ...   \n",
       "3     GP   F   15       U     GT3       T     4     2   health  services  ...   \n",
       "4     GP   F   16       U     GT3       T     3     3    other     other  ...   \n",
       "\n",
       "  famrel freetime  goout  Dalc  Walc health absences  G1  G2  G3  \n",
       "0      4        3      4     1     1      3        6   5   6   6  \n",
       "1      5        3      3     1     1      3        4   5   5   6  \n",
       "2      4        3      2     2     3      3       10   7   8  10  \n",
       "3      3        2      2     1     1      5        2  15  14  15  \n",
       "4      4        3      2     1     2      5        4   6  10  10  \n",
       "\n",
       "[5 rows x 33 columns]"
      ]
     },
     "execution_count": 8,
     "metadata": {},
     "output_type": "execute_result"
    }
   ],
   "source": [
    "# a. Loading the Dataset\n",
    "df = pd.read_csv(\"student-mat.csv\", sep=\";\")\n",
    "df.head()"
   ]
  },
  {
   "cell_type": "code",
   "execution_count": 10,
   "id": "1d57725d-8ea8-4ebd-afa2-019dc31ce554",
   "metadata": {},
   "outputs": [
    {
     "name": "stdout",
     "output_type": "stream",
     "text": [
      "Missing Values:\n",
      " school        0\n",
      "sex           0\n",
      "age           0\n",
      "address       0\n",
      "famsize       0\n",
      "Pstatus       0\n",
      "Medu          0\n",
      "Fedu          0\n",
      "Mjob          0\n",
      "Fjob          0\n",
      "reason        0\n",
      "guardian      0\n",
      "traveltime    0\n",
      "studytime     0\n",
      "failures      0\n",
      "schoolsup     0\n",
      "famsup        0\n",
      "paid          0\n",
      "activities    0\n",
      "nursery       0\n",
      "higher        0\n",
      "internet      0\n",
      "romantic      0\n",
      "famrel        0\n",
      "freetime      0\n",
      "goout         0\n",
      "Dalc          0\n",
      "Walc          0\n",
      "health        0\n",
      "absences      0\n",
      "G1            0\n",
      "G2            0\n",
      "G3            0\n",
      "dtype: int64\n",
      "\n",
      "Data Types:\n",
      " school        object\n",
      "sex           object\n",
      "age            int64\n",
      "address       object\n",
      "famsize       object\n",
      "Pstatus       object\n",
      "Medu           int64\n",
      "Fedu           int64\n",
      "Mjob          object\n",
      "Fjob          object\n",
      "reason        object\n",
      "guardian      object\n",
      "traveltime     int64\n",
      "studytime      int64\n",
      "failures       int64\n",
      "schoolsup     object\n",
      "famsup        object\n",
      "paid          object\n",
      "activities    object\n",
      "nursery       object\n",
      "higher        object\n",
      "internet      object\n",
      "romantic      object\n",
      "famrel         int64\n",
      "freetime       int64\n",
      "goout          int64\n",
      "Dalc           int64\n",
      "Walc           int64\n",
      "health         int64\n",
      "absences       int64\n",
      "G1             int64\n",
      "G2             int64\n",
      "G3             int64\n",
      "dtype: object\n",
      "\n",
      "Dataset Shape: (395, 33)\n"
     ]
    }
   ],
   "source": [
    "# b. Basic Data Exploration\n",
    "print(\"Missing Values:\\n\", df.isnull().sum())\n",
    "print(\"\\nData Types:\\n\", df.dtypes)\n",
    "print(\"\\nDataset Shape:\", df.shape)"
   ]
  },
  {
   "cell_type": "markdown",
   "id": "738ceca4-4453-4d5a-a50b-61b369e10beb",
   "metadata": {},
   "source": [
    "## Data Overview\n",
    "- No missing values were found.\n",
    "- There are `395` rows and `33` columns.\n",
    "- All features are already in proper format.\n"
   ]
  },
  {
   "cell_type": "code",
   "execution_count": 13,
   "id": "4511e107-d306-405b-a8ec-ea1a7a209aa1",
   "metadata": {},
   "outputs": [
    {
     "name": "stdout",
     "output_type": "stream",
     "text": [
      "Shape after removing duplicates: (395, 33)\n"
     ]
    }
   ],
   "source": [
    "# c. Data Cleaning\n",
    "#no missing values were found hence no need to replace or remove any\n",
    "# Removing duplicates\n",
    "df_cleaned = df.drop_duplicates()\n",
    "print(\"Shape after removing duplicates:\", df_cleaned.shape)"
   ]
  },
  {
   "cell_type": "code",
   "execution_count": 15,
   "id": "4396f88a-f344-4efe-a34f-ed2d9007085e",
   "metadata": {},
   "outputs": [
    {
     "name": "stdout",
     "output_type": "stream",
     "text": [
      "Average Final Grade (G3): 10.42\n"
     ]
    }
   ],
   "source": [
    "# d. Data Analysis Questions\n",
    "# 1. Average Score in Math (G3)\n",
    "avg_g3 = df_cleaned[\"G3\"].mean()\n",
    "print(f\"Average Final Grade (G3): {avg_g3:.2f}\")\n"
   ]
  },
  {
   "cell_type": "code",
   "execution_count": 17,
   "id": "3d136a2c-7900-4f3a-96cb-4c9280fa9b13",
   "metadata": {},
   "outputs": [
    {
     "name": "stdout",
     "output_type": "stream",
     "text": [
      "Number of Students Scoring Above 15: 40\n"
     ]
    }
   ],
   "source": [
    "# 2.Students scoring above 15\n",
    "above_15 = df_cleaned[df_cleaned[\"G3\"] > 15].shape[0]\n",
    "print(f\"Number of Students Scoring Above 15: {above_15}\")"
   ]
  },
  {
   "cell_type": "code",
   "execution_count": 19,
   "id": "fe61184b-f765-4e06-bda5-7e081812f321",
   "metadata": {},
   "outputs": [
    {
     "name": "stdout",
     "output_type": "stream",
     "text": [
      "Correlation between Study Time and G3: 0.10\n"
     ]
    }
   ],
   "source": [
    "# 3. Correlation between study time and G3\n",
    "correlation = df_cleaned[\"studytime\"].corr(df_cleaned[\"G3\"])\n",
    "print(f\"Correlation between Study Time and G3: {correlation:.2f}\")\n"
   ]
  },
  {
   "cell_type": "code",
   "execution_count": 23,
   "id": "9e3ff967-7fb3-4079-8b79-dbccefd9bc4d",
   "metadata": {},
   "outputs": [
    {
     "name": "stdout",
     "output_type": "stream",
     "text": [
      "Gender with higher average final grade (G3): M (10.91)\n"
     ]
    }
   ],
   "source": [
    "# 4. Average G3 by Gender\n",
    "avg_by_gender = df_cleaned.groupby(\"sex\")[\"G3\"].mean()\n",
    "\n",
    "# Determine the gender with higher average\n",
    "higher_gender = avg_by_gender.idxmax()\n",
    "higher_avg = avg_by_gender.max()\n",
    "\n",
    "print(f\"Gender with higher average final grade (G3): {higher_gender} ({higher_avg:.2f})\")\n"
   ]
  },
  {
   "cell_type": "code",
   "execution_count": null,
   "id": "48303351-2fd5-4765-9f3f-a8391d90ca47",
   "metadata": {},
   "outputs": [],
   "source": []
  },
  {
   "cell_type": "code",
   "execution_count": null,
   "id": "524f9628-a3ee-413e-b1c4-695f16d087f1",
   "metadata": {},
   "outputs": [],
   "source": []
  },
  {
   "cell_type": "markdown",
   "id": "ee51b6b1-1458-4d82-832d-66c934b70af9",
   "metadata": {},
   "source": [
    "## Analysis Findings:\n",
    "\n",
    "1. Average Final Grade (G3): 10.42\n",
    "2. Students with G3 > 15\n",
    "3. Correlation between Study Time and G3: Positive correlation 0.10.\n",
    "4. Gender Comparison: Comparison of average final scores by gender- highest average is for male 10.91.\n"
   ]
  },
  {
   "cell_type": "code",
   "execution_count": null,
   "id": "bf62ab4b-0a4d-4db4-a557-d5849f4838d4",
   "metadata": {},
   "outputs": [],
   "source": []
  },
  {
   "cell_type": "code",
   "execution_count": 25,
   "id": "a7dc19ba-8fe4-499f-b5e9-2b8e56d931c1",
   "metadata": {},
   "outputs": [
    {
     "data": {
      "image/png": "[encoded data removed]",
      "text/plain": [
       "<Figure size 800x500 with 1 Axes>"
      ]
     },
     "metadata": {},
     "output_type": "display_data"
    }
   ],
   "source": [
    "# e. Data Visualization\n",
    "# 1. Histogram of Final Grades\n",
    "plt.figure(figsize=(8, 5))\n",
    "plt.hist(df_cleaned[\"G3\"], bins=15, color='skyblue', edgecolor='black')\n",
    "plt.title(\"Distribution of Final Grades (G3)\")\n",
    "plt.xlabel(\"Final Grade (G3)\")\n",
    "plt.ylabel(\"Number of Students\")\n",
    "plt.show()"
   ]
  },
  {
   "cell_type": "code",
   "execution_count": null,
   "id": "dd92d045-69d3-4b38-858b-7f3bbce3ebe5",
   "metadata": {},
   "outputs": [],
   "source": []
  },
  {
   "cell_type": "markdown",
   "id": "03e659e9-03b0-463e-93e7-2e2171b2d92f",
   "metadata": {},
   "source": [
    "## Insights\n",
    "Most students score between 10 and 15. A few scored above 18, indicating top performers.\n",
    "Many students scored below 5 marks too."
   ]
  },
  {
   "cell_type": "code",
   "execution_count": 29,
   "id": "111107de-459d-4f63-80ea-671676cbe914",
   "metadata": {},
   "outputs": [
    {
     "name": "stderr",
     "output_type": "stream",
     "text": [
      "/var/folders/vf/ntv0ct393rg_ztmmmrw7y8780000gn/T/ipykernel_53418/1484957745.py:3: UserWarning: Ignoring `palette` because no `hue` variable has been assigned.\n",
      "  sns.scatterplot(x=\"studytime\", y=\"G3\", data=df_cleaned, palette=\"Set2\")\n"
     ]
    },
    {
     "data": {
      "image/png": "[encoded data removed]",
      "text/plain": [
       "<Figure size 800x500 with 1 Axes>"
      ]
     },
     "metadata": {},
     "output_type": "display_data"
    }
   ],
   "source": [
    "# 2. Scatter Plot (Study Time vs G3)\n",
    "plt.figure(figsize=(8, 5))\n",
    "sns.scatterplot(x=\"studytime\", y=\"G3\", data=df_cleaned, palette=\"Set2\")\n",
    "plt.title(\"Study Time vs Final Grade (G3)\")\n",
    "plt.xlabel(\"Study Time (weekly scale 1-4)\")\n",
    "plt.ylabel(\"Final Grade (G3)\")\n",
    "plt.show()\n"
   ]
  },
  {
   "cell_type": "markdown",
   "id": "67ffdb46-5d17-4fc0-a175-0f6f90b342ac",
   "metadata": {},
   "source": [
    "## Insights\n",
    "There's a weak but noticeable trend — students who study more tend to perform better."
   ]
  },
  {
   "cell_type": "code",
   "execution_count": 31,
   "id": "b1bb7086-93d8-4231-9c20-f980658c8da3",
   "metadata": {},
   "outputs": [
    {
     "name": "stderr",
     "output_type": "stream",
     "text": [
      "/var/folders/vf/ntv0ct393rg_ztmmmrw7y8780000gn/T/ipykernel_53418/1334138016.py:3: FutureWarning: \n",
      "\n",
      "Passing `palette` without assigning `hue` is deprecated and will be removed in v0.14.0. Assign the `x` variable to `hue` and set `legend=False` for the same effect.\n",
      "\n",
      "  sns.barplot(x=avg_by_gender.index, y=avg_by_gender.values, palette=\"pastel\")\n"
     ]
    },
    {
     "data": {
      "image/png": "[encoded data removed]",
      "text/plain": [
       "<Figure size 600x400 with 1 Axes>"
      ]
     },
     "metadata": {},
     "output_type": "display_data"
    }
   ],
   "source": [
    "# 3. Bar Chart (Average G3 by Gender)\n",
    "plt.figure(figsize=(6, 4))\n",
    "sns.barplot(x=avg_by_gender.index, y=avg_by_gender.values, palette=\"pastel\")\n",
    "plt.title(\"Average Final Grade (G3) by Gender\")\n",
    "plt.xlabel(\"Gender\")\n",
    "plt.ylabel(\"Average G3\")\n",
    "plt.show()"
   ]
  },
  {
   "cell_type": "markdown",
   "id": "bd5497dd-91de-4278-9432-dcf1b9656369",
   "metadata": {},
   "source": [
    "## Insights\n",
    "Male students (M) have a slightly higher average G3 than female students (F)."
   ]
  }
 ],
 "metadata": {
  "kernelspec": {
   "display_name": "Python [conda env:base] *",
   "language": "python",
   "name": "conda-base-py"
  },
  "language_info": {
   "codemirror_mode": {
    "name": "ipython",
    "version": 3
   },
   "file_extension": ".py",
   "mimetype": "text/x-python",
   "name": "python",
   "nbconvert_exporter": "python",
   "pygments_lexer": "ipython3",
   "version": "3.12.7"
  }
 },
 "nbformat": 4,
 "nbformat_minor": 5
}
